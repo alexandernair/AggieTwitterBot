import twint


c = twint.Config()

c.Format = "{id}"
c.Search = "TAMU"
c.Search = "Texas A&M"
c.Search = "Aggies"
c.Filter_retweets = False
c.Limit = 1000
C.lang ="en"
c.Username = "noneprivacy"
c.Output = "08-01.csv"
c.Since = "2020-08-02"
c.Until = "2020-08-92"

#c.Store_csv = True
c.Output = "none"

twint.run.Search(c)